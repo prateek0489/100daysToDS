{
  "nbformat": 4,
  "nbformat_minor": 0,
  "metadata": {
    "colab": {
      "name": "FirstNLP.ipynb",
      "provenance": [],
      "authorship_tag": "ABX9TyPZE3/ESTGJbA0GwYa5JfeP",
      "include_colab_link": true
    },
    "kernelspec": {
      "name": "python3",
      "display_name": "Python 3"
    }
  },
  "cells": [
    {
      "cell_type": "markdown",
      "metadata": {
        "id": "view-in-github",
        "colab_type": "text"
      },
      "source": [
        "<a href=\"https://colab.research.google.com/github/prateek0489/100daysToDS/blob/master/FirstNLP.ipynb\" target=\"_parent\"><img src=\"https://colab.research.google.com/assets/colab-badge.svg\" alt=\"Open In Colab\"/></a>"
      ]
    },
    {
      "cell_type": "code",
      "metadata": {
        "id": "ifOIn33gliMM",
        "colab_type": "code",
        "colab": {}
      },
      "source": [
        ""
      ],
      "execution_count": 0,
      "outputs": []
    },
    {
      "cell_type": "code",
      "metadata": {
        "id": "SMkRjST-ydMK",
        "colab_type": "code",
        "colab": {}
      },
      "source": [
        "import pandas as pd\n",
        "import numpy as np\n",
        "from functools import partial\n",
        "import string\n",
        "import io\n",
        "import os\n",
        "import re\n",
        "pd.set_option('display.max_colwidth', 80)\n"
      ],
      "execution_count": 0,
      "outputs": []
    },
    {
      "cell_type": "code",
      "metadata": {
        "id": "6o5fKGSj1QBO",
        "colab_type": "code",
        "outputId": "b175e43a-913f-4898-8b4c-9da19321751d",
        "colab": {
          "base_uri": "https://localhost:8080/",
          "height": 104
        }
      },
      "source": [
        "import nltk\n",
        "nltk.download('stopwords')\n",
        "nltk.download('wordnet')"
      ],
      "execution_count": 2,
      "outputs": [
        {
          "output_type": "stream",
          "text": [
            "[nltk_data] Downloading package stopwords to /root/nltk_data...\n",
            "[nltk_data]   Unzipping corpora/stopwords.zip.\n",
            "[nltk_data] Downloading package wordnet to /root/nltk_data...\n",
            "[nltk_data]   Unzipping corpora/wordnet.zip.\n"
          ],
          "name": "stdout"
        },
        {
          "output_type": "execute_result",
          "data": {
            "text/plain": [
              "True"
            ]
          },
          "metadata": {
            "tags": []
          },
          "execution_count": 2
        }
      ]
    },
    {
      "cell_type": "code",
      "metadata": {
        "id": "S8-ra7oR1shD",
        "colab_type": "code",
        "colab": {}
      },
      "source": [
        "stopwords = nltk.corpus.stopwords.words('english')\n",
        "wn = nltk.WordNetLemmatizer()"
      ],
      "execution_count": 0,
      "outputs": []
    },
    {
      "cell_type": "code",
      "metadata": {
        "id": "qvIsbYdJy0fr",
        "colab_type": "code",
        "colab": {}
      },
      "source": [
        "training_data=pd.read_csv(\"train.csv\")"
      ],
      "execution_count": 0,
      "outputs": []
    },
    {
      "cell_type": "code",
      "metadata": {
        "id": "5gE_ESV76Q5d",
        "colab_type": "code",
        "colab": {}
      },
      "source": [
        "training_data['tweet_contains_url'] = training_data['tweet'].apply(lambda x: len(re.findall(\"(?P<url>https?://[^\\s]+)\", x)))\n",
        "training_data['tweet_contains_smiley'] =training_data['tweet'].apply(lambda x: len(re.findall(\"((:|;)\\))+\", x)))"
      ],
      "execution_count": 0,
      "outputs": []
    },
    {
      "cell_type": "code",
      "metadata": {
        "id": "amCfThgX6xXv",
        "colab_type": "code",
        "outputId": "40704aa2-7b27-44e0-97d1-bf6bfd844f7b",
        "colab": {
          "base_uri": "https://localhost:8080/",
          "height": 52
        }
      },
      "source": [
        "print(training_data['tweet_contains_url'].corr(training_data['label']))\n",
        "print(training_data['tweet_contains_smiley'].corr(training_data['label']))"
      ],
      "execution_count": 7,
      "outputs": [
        {
          "output_type": "stream",
          "text": [
            "-0.5113744449299077\n",
            "-0.06959690708945807\n"
          ],
          "name": "stdout"
        }
      ]
    },
    {
      "cell_type": "code",
      "metadata": {
        "id": "-VXxi8KvMkZ_",
        "colab_type": "code",
        "colab": {
          "base_uri": "https://localhost:8080/",
          "height": 104
        },
        "outputId": "954d3a0e-648f-49ed-bc60-ba972f65d165"
      },
      "source": [
        "training_data['tweet_contains_smiley'].value_counts()"
      ],
      "execution_count": 58,
      "outputs": [
        {
          "output_type": "execute_result",
          "data": {
            "text/plain": [
              "0    7701\n",
              "1     210\n",
              "2       6\n",
              "3       3\n",
              "Name: tweet_contains_smiley, dtype: int64"
            ]
          },
          "metadata": {
            "tags": []
          },
          "execution_count": 58
        }
      ]
    },
    {
      "cell_type": "code",
      "metadata": {
        "id": "JLzFkZXEMoDD",
        "colab_type": "code",
        "colab": {
          "base_uri": "https://localhost:8080/",
          "height": 35
        },
        "outputId": "9ae215a9-fce1-485c-d672-a09d38af5377"
      },
      "source": [
        "positive_tweets_with_smiley=len(training_data[(training_data.tweet_contains_smiley)>0 & (training_data.label==0)])\n",
        "all_tweets_with_smiley=len(training_data[training_data.tweet_contains_smiley>0])\n",
        "print(positive_tweets_with_smiley/all_tweets_with_smiley)"
      ],
      "execution_count": 62,
      "outputs": [
        {
          "output_type": "stream",
          "text": [
            "1.0\n"
          ],
          "name": "stdout"
        }
      ]
    },
    {
      "cell_type": "code",
      "metadata": {
        "id": "B7i_H1U_z-HR",
        "colab_type": "code",
        "colab": {}
      },
      "source": [
        "def clean_text(text):\n",
        "    text = re.sub(\"(?P<url>https?://[^\\s]+)\",\"\",text)\n",
        "    text = \"\".join([word for word in text if word not in string.punctuation])\n",
        "    tokens = re.split('\\W+', text)\n",
        "    text = [word for word in tokens if word not in stopwords and len(word)>3]\n",
        "    return text"
      ],
      "execution_count": 0,
      "outputs": []
    },
    {
      "cell_type": "code",
      "metadata": {
        "id": "FDc39wnj2_Yw",
        "colab_type": "code",
        "colab": {}
      },
      "source": [
        "training_data.head()"
      ],
      "execution_count": 0,
      "outputs": []
    },
    {
      "cell_type": "code",
      "metadata": {
        "id": "cpeHAvkWzUj1",
        "colab_type": "code",
        "colab": {}
      },
      "source": [
        "training_data['body_text_nostop'] = training_data['tweet'].apply(lambda x: clean_text(x.lower()))\n",
        "\n",
        "training_data.head()"
      ],
      "execution_count": 0,
      "outputs": []
    },
    {
      "cell_type": "code",
      "metadata": {
        "id": "BUIuw7ab1-RZ",
        "colab_type": "code",
        "outputId": "bc6ce99a-4b18-4934-81a8-23a4f6456853",
        "colab": {
          "base_uri": "https://localhost:8080/",
          "height": 52
        }
      },
      "source": [
        "nltk.download('wordnet')\n",
        "wn = nltk.WordNetLemmatizer()\n",
        "def lemmatizing(tokenized_text):\n",
        "    text = [wn.lemmatize(word) for word in tokenized_text]\n",
        "    return text\n",
        "\n",
        "training_data['body_text_lemmatized'] = training_data['body_text_nostop'].apply(lambda x: lemmatizing(x))\n",
        "\n",
        "training_data['tidy_tweet']=training_data['body_text_lemmatized'].apply(lambda x:\" \".join([word for word in x]))"
      ],
      "execution_count": 31,
      "outputs": [
        {
          "output_type": "stream",
          "text": [
            "[nltk_data] Downloading package wordnet to /root/nltk_data...\n",
            "[nltk_data]   Package wordnet is already up-to-date!\n"
          ],
          "name": "stdout"
        }
      ]
    },
    {
      "cell_type": "code",
      "metadata": {
        "id": "GabOCoEivZRq",
        "colab_type": "code",
        "colab": {
          "base_uri": "https://localhost:8080/",
          "height": 462
        },
        "outputId": "38643879-a29d-4f4b-8b8d-86966c675734"
      },
      "source": [
        "training_data.head()"
      ],
      "execution_count": 35,
      "outputs": [
        {
          "output_type": "execute_result",
          "data": {
            "text/html": [
              "<div>\n",
              "<style scoped>\n",
              "    .dataframe tbody tr th:only-of-type {\n",
              "        vertical-align: middle;\n",
              "    }\n",
              "\n",
              "    .dataframe tbody tr th {\n",
              "        vertical-align: top;\n",
              "    }\n",
              "\n",
              "    .dataframe thead th {\n",
              "        text-align: right;\n",
              "    }\n",
              "</style>\n",
              "<table border=\"1\" class=\"dataframe\">\n",
              "  <thead>\n",
              "    <tr style=\"text-align: right;\">\n",
              "      <th></th>\n",
              "      <th>id</th>\n",
              "      <th>label</th>\n",
              "      <th>tweet</th>\n",
              "      <th>tweet_contains_url</th>\n",
              "      <th>tweet_contains_smiley</th>\n",
              "      <th>body_text_nostop</th>\n",
              "      <th>body_text_lemmatized</th>\n",
              "      <th>tidy_tweet</th>\n",
              "    </tr>\n",
              "  </thead>\n",
              "  <tbody>\n",
              "    <tr>\n",
              "      <th>0</th>\n",
              "      <td>1</td>\n",
              "      <td>0</td>\n",
              "      <td>#fingerprint #Pregnancy Test https://goo.gl/h1MfQV #android #apps #beautiful...</td>\n",
              "      <td>1</td>\n",
              "      <td>0</td>\n",
              "      <td>[fingerprint, pregnancy, test, android, apps, beautiful, cute, health, igers...</td>\n",
              "      <td>[fingerprint, pregnancy, test, android, apps, beautiful, cute, health, igers...</td>\n",
              "      <td>fingerprint pregnancy test android apps beautiful cute health igers iphoneon...</td>\n",
              "    </tr>\n",
              "    <tr>\n",
              "      <th>1</th>\n",
              "      <td>2</td>\n",
              "      <td>0</td>\n",
              "      <td>Finally a transparant silicon case ^^ Thanks to my uncle :) #yay #Sony #Xper...</td>\n",
              "      <td>1</td>\n",
              "      <td>1</td>\n",
              "      <td>[finally, transparant, silicon, case, thanks, uncle, sony, xperia, sonyexper...</td>\n",
              "      <td>[finally, transparant, silicon, case, thanks, uncle, sony, xperia, sonyexper...</td>\n",
              "      <td>finally transparant silicon case thanks uncle sony xperia sonyexperias</td>\n",
              "    </tr>\n",
              "    <tr>\n",
              "      <th>2</th>\n",
              "      <td>3</td>\n",
              "      <td>0</td>\n",
              "      <td>We love this! Would you go? #talk #makememories #unplug #relax #iphone #smar...</td>\n",
              "      <td>1</td>\n",
              "      <td>0</td>\n",
              "      <td>[love, would, talk, makememories, unplug, relax, iphone, smartphone, wifi, c...</td>\n",
              "      <td>[love, would, talk, makememories, unplug, relax, iphone, smartphone, wifi, c...</td>\n",
              "      <td>love would talk makememories unplug relax iphone smartphone wifi connect</td>\n",
              "    </tr>\n",
              "    <tr>\n",
              "      <th>3</th>\n",
              "      <td>4</td>\n",
              "      <td>0</td>\n",
              "      <td>I'm wired I know I'm George I was made that way ;) #iphone #cute #daventry #...</td>\n",
              "      <td>1</td>\n",
              "      <td>1</td>\n",
              "      <td>[wired, know, george, made, iphone, cute, daventry, home]</td>\n",
              "      <td>[wired, know, george, made, iphone, cute, daventry, home]</td>\n",
              "      <td>wired know george made iphone cute daventry home</td>\n",
              "    </tr>\n",
              "    <tr>\n",
              "      <th>4</th>\n",
              "      <td>5</td>\n",
              "      <td>1</td>\n",
              "      <td>What amazing service! Apple won't even talk to me about a question I have un...</td>\n",
              "      <td>0</td>\n",
              "      <td>0</td>\n",
              "      <td>[amazing, service, apple, wont, even, talk, question, unless, 1995, stupid, ...</td>\n",
              "      <td>[amazing, service, apple, wont, even, talk, question, unless, 1995, stupid, ...</td>\n",
              "      <td>amazing service apple wont even talk question unless 1995 stupid support</td>\n",
              "    </tr>\n",
              "  </tbody>\n",
              "</table>\n",
              "</div>"
            ],
            "text/plain": [
              "   id  ...                                                                       tidy_tweet\n",
              "0   1  ...  fingerprint pregnancy test android apps beautiful cute health igers iphoneon...\n",
              "1   2  ...           finally transparant silicon case thanks uncle sony xperia sonyexperias\n",
              "2   3  ...         love would talk makememories unplug relax iphone smartphone wifi connect\n",
              "3   4  ...                                 wired know george made iphone cute daventry home\n",
              "4   5  ...         amazing service apple wont even talk question unless 1995 stupid support\n",
              "\n",
              "[5 rows x 8 columns]"
            ]
          },
          "metadata": {
            "tags": []
          },
          "execution_count": 35
        }
      ]
    },
    {
      "cell_type": "code",
      "metadata": {
        "id": "DBdxJubow12O",
        "colab_type": "code",
        "colab": {}
      },
      "source": [
        "from sklearn.model_selection import train_test_split\n",
        "X_train,X_test,y_train, y_test =train_test_split(training_data[['tidy_tweet','tweet_contains_smiley','tweet_contains_url']],\n",
        "                                                 training_data['label'],test_size=.2)"
      ],
      "execution_count": 0,
      "outputs": []
    },
    {
      "cell_type": "code",
      "metadata": {
        "id": "Sz7RA5EotFdC",
        "colab_type": "code",
        "colab": {
          "base_uri": "https://localhost:8080/",
          "height": 286
        },
        "outputId": "843c40a6-4a40-4002-88f7-9e7f0b304635"
      },
      "source": [
        "from sklearn.feature_extraction.text import TfidfVectorizer\n",
        "tfidf_vectorizer = TfidfVectorizer(max_df=0.90, min_df=2, stop_words='english',\n",
        "                                   analyzer=clean_text)\n",
        "\n",
        "tfidf_vect_fit=tfidf_vectorizer.fit(X_train['tidy_tweet'])\n",
        "tfidf_train=tfidf_vect_fit.transform(X_train['tidy_tweet'])\n",
        "tfidf_test=tfidf_vect_fit.transform(X_test['tidy_tweet'])\n",
        "\n",
        "X_train_vect=pd.concat([X_train[['tweet_contains_smiley','tweet_contains_url']].reset_index(drop=True),\n",
        "                      pd.DataFrame(tfidf_train.toarray())],axis=1)\n",
        "X_test_vect=pd.concat([X_test[['tweet_contains_smiley','tweet_contains_url']].reset_index(drop=True),\n",
        "                      pd.DataFrame(tfidf_test.toarray())],axis=1)\n",
        "X_train_vect.head()"
      ],
      "execution_count": 44,
      "outputs": [
        {
          "output_type": "stream",
          "text": [
            "/usr/local/lib/python3.6/dist-packages/sklearn/feature_extraction/text.py:520: UserWarning: The parameter 'stop_words' will not be used since 'analyzer' != 'word'\n",
            "  warnings.warn(\"The parameter 'stop_words' will not be used\"\n"
          ],
          "name": "stderr"
        },
        {
          "output_type": "execute_result",
          "data": {
            "text/html": [
              "<div>\n",
              "<style scoped>\n",
              "    .dataframe tbody tr th:only-of-type {\n",
              "        vertical-align: middle;\n",
              "    }\n",
              "\n",
              "    .dataframe tbody tr th {\n",
              "        vertical-align: top;\n",
              "    }\n",
              "\n",
              "    .dataframe thead th {\n",
              "        text-align: right;\n",
              "    }\n",
              "</style>\n",
              "<table border=\"1\" class=\"dataframe\">\n",
              "  <thead>\n",
              "    <tr style=\"text-align: right;\">\n",
              "      <th></th>\n",
              "      <th>tweet_contains_smiley</th>\n",
              "      <th>tweet_contains_url</th>\n",
              "      <th>0</th>\n",
              "      <th>1</th>\n",
              "      <th>2</th>\n",
              "      <th>3</th>\n",
              "      <th>4</th>\n",
              "      <th>5</th>\n",
              "      <th>6</th>\n",
              "      <th>7</th>\n",
              "      <th>8</th>\n",
              "      <th>9</th>\n",
              "      <th>10</th>\n",
              "      <th>11</th>\n",
              "      <th>12</th>\n",
              "      <th>13</th>\n",
              "      <th>14</th>\n",
              "      <th>15</th>\n",
              "      <th>16</th>\n",
              "      <th>17</th>\n",
              "      <th>18</th>\n",
              "      <th>19</th>\n",
              "      <th>20</th>\n",
              "      <th>21</th>\n",
              "      <th>22</th>\n",
              "      <th>23</th>\n",
              "      <th>24</th>\n",
              "      <th>25</th>\n",
              "      <th>26</th>\n",
              "      <th>27</th>\n",
              "      <th>28</th>\n",
              "      <th>29</th>\n",
              "      <th>30</th>\n",
              "      <th>31</th>\n",
              "      <th>32</th>\n",
              "      <th>33</th>\n",
              "      <th>34</th>\n",
              "      <th>35</th>\n",
              "      <th>36</th>\n",
              "      <th>37</th>\n",
              "      <th>...</th>\n",
              "      <th>4215</th>\n",
              "      <th>4216</th>\n",
              "      <th>4217</th>\n",
              "      <th>4218</th>\n",
              "      <th>4219</th>\n",
              "      <th>4220</th>\n",
              "      <th>4221</th>\n",
              "      <th>4222</th>\n",
              "      <th>4223</th>\n",
              "      <th>4224</th>\n",
              "      <th>4225</th>\n",
              "      <th>4226</th>\n",
              "      <th>4227</th>\n",
              "      <th>4228</th>\n",
              "      <th>4229</th>\n",
              "      <th>4230</th>\n",
              "      <th>4231</th>\n",
              "      <th>4232</th>\n",
              "      <th>4233</th>\n",
              "      <th>4234</th>\n",
              "      <th>4235</th>\n",
              "      <th>4236</th>\n",
              "      <th>4237</th>\n",
              "      <th>4238</th>\n",
              "      <th>4239</th>\n",
              "      <th>4240</th>\n",
              "      <th>4241</th>\n",
              "      <th>4242</th>\n",
              "      <th>4243</th>\n",
              "      <th>4244</th>\n",
              "      <th>4245</th>\n",
              "      <th>4246</th>\n",
              "      <th>4247</th>\n",
              "      <th>4248</th>\n",
              "      <th>4249</th>\n",
              "      <th>4250</th>\n",
              "      <th>4251</th>\n",
              "      <th>4252</th>\n",
              "      <th>4253</th>\n",
              "      <th>4254</th>\n",
              "    </tr>\n",
              "  </thead>\n",
              "  <tbody>\n",
              "    <tr>\n",
              "      <th>0</th>\n",
              "      <td>0</td>\n",
              "      <td>0</td>\n",
              "      <td>0.0</td>\n",
              "      <td>0.0</td>\n",
              "      <td>0.0</td>\n",
              "      <td>0.0</td>\n",
              "      <td>0.0</td>\n",
              "      <td>0.0</td>\n",
              "      <td>0.0</td>\n",
              "      <td>0.0</td>\n",
              "      <td>0.0</td>\n",
              "      <td>0.0</td>\n",
              "      <td>0.0</td>\n",
              "      <td>0.0</td>\n",
              "      <td>0.0</td>\n",
              "      <td>0.0</td>\n",
              "      <td>0.0</td>\n",
              "      <td>0.0</td>\n",
              "      <td>0.0</td>\n",
              "      <td>0.0</td>\n",
              "      <td>0.0</td>\n",
              "      <td>0.0</td>\n",
              "      <td>0.0</td>\n",
              "      <td>0.0</td>\n",
              "      <td>0.0</td>\n",
              "      <td>0.0</td>\n",
              "      <td>0.0</td>\n",
              "      <td>0.0</td>\n",
              "      <td>0.0</td>\n",
              "      <td>0.0</td>\n",
              "      <td>0.0</td>\n",
              "      <td>0.0</td>\n",
              "      <td>0.0</td>\n",
              "      <td>0.0</td>\n",
              "      <td>0.0</td>\n",
              "      <td>0.0</td>\n",
              "      <td>0.0</td>\n",
              "      <td>0.0</td>\n",
              "      <td>0.0</td>\n",
              "      <td>0.0</td>\n",
              "      <td>...</td>\n",
              "      <td>0.0</td>\n",
              "      <td>0.0</td>\n",
              "      <td>0.0</td>\n",
              "      <td>0.0</td>\n",
              "      <td>0.0</td>\n",
              "      <td>0.0</td>\n",
              "      <td>0.0</td>\n",
              "      <td>0.0</td>\n",
              "      <td>0.0</td>\n",
              "      <td>0.0</td>\n",
              "      <td>0.0</td>\n",
              "      <td>0.0</td>\n",
              "      <td>0.0</td>\n",
              "      <td>0.0</td>\n",
              "      <td>0.0</td>\n",
              "      <td>0.0</td>\n",
              "      <td>0.0</td>\n",
              "      <td>0.0</td>\n",
              "      <td>0.0</td>\n",
              "      <td>0.0</td>\n",
              "      <td>0.0</td>\n",
              "      <td>0.0</td>\n",
              "      <td>0.0</td>\n",
              "      <td>0.0</td>\n",
              "      <td>0.0</td>\n",
              "      <td>0.0</td>\n",
              "      <td>0.0</td>\n",
              "      <td>0.0</td>\n",
              "      <td>0.0</td>\n",
              "      <td>0.0</td>\n",
              "      <td>0.0</td>\n",
              "      <td>0.0</td>\n",
              "      <td>0.0</td>\n",
              "      <td>0.0</td>\n",
              "      <td>0.0</td>\n",
              "      <td>0.0</td>\n",
              "      <td>0.0</td>\n",
              "      <td>0.0</td>\n",
              "      <td>0.0</td>\n",
              "      <td>0.0</td>\n",
              "    </tr>\n",
              "    <tr>\n",
              "      <th>1</th>\n",
              "      <td>0</td>\n",
              "      <td>0</td>\n",
              "      <td>0.0</td>\n",
              "      <td>0.0</td>\n",
              "      <td>0.0</td>\n",
              "      <td>0.0</td>\n",
              "      <td>0.0</td>\n",
              "      <td>0.0</td>\n",
              "      <td>0.0</td>\n",
              "      <td>0.0</td>\n",
              "      <td>0.0</td>\n",
              "      <td>0.0</td>\n",
              "      <td>0.0</td>\n",
              "      <td>0.0</td>\n",
              "      <td>0.0</td>\n",
              "      <td>0.0</td>\n",
              "      <td>0.0</td>\n",
              "      <td>0.0</td>\n",
              "      <td>0.0</td>\n",
              "      <td>0.0</td>\n",
              "      <td>0.0</td>\n",
              "      <td>0.0</td>\n",
              "      <td>0.0</td>\n",
              "      <td>0.0</td>\n",
              "      <td>0.0</td>\n",
              "      <td>0.0</td>\n",
              "      <td>0.0</td>\n",
              "      <td>0.0</td>\n",
              "      <td>0.0</td>\n",
              "      <td>0.0</td>\n",
              "      <td>0.0</td>\n",
              "      <td>0.0</td>\n",
              "      <td>0.0</td>\n",
              "      <td>0.0</td>\n",
              "      <td>0.0</td>\n",
              "      <td>0.0</td>\n",
              "      <td>0.0</td>\n",
              "      <td>0.0</td>\n",
              "      <td>0.0</td>\n",
              "      <td>0.0</td>\n",
              "      <td>...</td>\n",
              "      <td>0.0</td>\n",
              "      <td>0.0</td>\n",
              "      <td>0.0</td>\n",
              "      <td>0.0</td>\n",
              "      <td>0.0</td>\n",
              "      <td>0.0</td>\n",
              "      <td>0.0</td>\n",
              "      <td>0.0</td>\n",
              "      <td>0.0</td>\n",
              "      <td>0.0</td>\n",
              "      <td>0.0</td>\n",
              "      <td>0.0</td>\n",
              "      <td>0.0</td>\n",
              "      <td>0.0</td>\n",
              "      <td>0.0</td>\n",
              "      <td>0.0</td>\n",
              "      <td>0.0</td>\n",
              "      <td>0.0</td>\n",
              "      <td>0.0</td>\n",
              "      <td>0.0</td>\n",
              "      <td>0.0</td>\n",
              "      <td>0.0</td>\n",
              "      <td>0.0</td>\n",
              "      <td>0.0</td>\n",
              "      <td>0.0</td>\n",
              "      <td>0.0</td>\n",
              "      <td>0.0</td>\n",
              "      <td>0.0</td>\n",
              "      <td>0.0</td>\n",
              "      <td>0.0</td>\n",
              "      <td>0.0</td>\n",
              "      <td>0.0</td>\n",
              "      <td>0.0</td>\n",
              "      <td>0.0</td>\n",
              "      <td>0.0</td>\n",
              "      <td>0.0</td>\n",
              "      <td>0.0</td>\n",
              "      <td>0.0</td>\n",
              "      <td>0.0</td>\n",
              "      <td>0.0</td>\n",
              "    </tr>\n",
              "    <tr>\n",
              "      <th>2</th>\n",
              "      <td>0</td>\n",
              "      <td>0</td>\n",
              "      <td>0.0</td>\n",
              "      <td>0.0</td>\n",
              "      <td>0.0</td>\n",
              "      <td>0.0</td>\n",
              "      <td>0.0</td>\n",
              "      <td>0.0</td>\n",
              "      <td>0.0</td>\n",
              "      <td>0.0</td>\n",
              "      <td>0.0</td>\n",
              "      <td>0.0</td>\n",
              "      <td>0.0</td>\n",
              "      <td>0.0</td>\n",
              "      <td>0.0</td>\n",
              "      <td>0.0</td>\n",
              "      <td>0.0</td>\n",
              "      <td>0.0</td>\n",
              "      <td>0.0</td>\n",
              "      <td>0.0</td>\n",
              "      <td>0.0</td>\n",
              "      <td>0.0</td>\n",
              "      <td>0.0</td>\n",
              "      <td>0.0</td>\n",
              "      <td>0.0</td>\n",
              "      <td>0.0</td>\n",
              "      <td>0.0</td>\n",
              "      <td>0.0</td>\n",
              "      <td>0.0</td>\n",
              "      <td>0.0</td>\n",
              "      <td>0.0</td>\n",
              "      <td>0.0</td>\n",
              "      <td>0.0</td>\n",
              "      <td>0.0</td>\n",
              "      <td>0.0</td>\n",
              "      <td>0.0</td>\n",
              "      <td>0.0</td>\n",
              "      <td>0.0</td>\n",
              "      <td>0.0</td>\n",
              "      <td>0.0</td>\n",
              "      <td>...</td>\n",
              "      <td>0.0</td>\n",
              "      <td>0.0</td>\n",
              "      <td>0.0</td>\n",
              "      <td>0.0</td>\n",
              "      <td>0.0</td>\n",
              "      <td>0.0</td>\n",
              "      <td>0.0</td>\n",
              "      <td>0.0</td>\n",
              "      <td>0.0</td>\n",
              "      <td>0.0</td>\n",
              "      <td>0.0</td>\n",
              "      <td>0.0</td>\n",
              "      <td>0.0</td>\n",
              "      <td>0.0</td>\n",
              "      <td>0.0</td>\n",
              "      <td>0.0</td>\n",
              "      <td>0.0</td>\n",
              "      <td>0.0</td>\n",
              "      <td>0.0</td>\n",
              "      <td>0.0</td>\n",
              "      <td>0.0</td>\n",
              "      <td>0.0</td>\n",
              "      <td>0.0</td>\n",
              "      <td>0.0</td>\n",
              "      <td>0.0</td>\n",
              "      <td>0.0</td>\n",
              "      <td>0.0</td>\n",
              "      <td>0.0</td>\n",
              "      <td>0.0</td>\n",
              "      <td>0.0</td>\n",
              "      <td>0.0</td>\n",
              "      <td>0.0</td>\n",
              "      <td>0.0</td>\n",
              "      <td>0.0</td>\n",
              "      <td>0.0</td>\n",
              "      <td>0.0</td>\n",
              "      <td>0.0</td>\n",
              "      <td>0.0</td>\n",
              "      <td>0.0</td>\n",
              "      <td>0.0</td>\n",
              "    </tr>\n",
              "    <tr>\n",
              "      <th>3</th>\n",
              "      <td>0</td>\n",
              "      <td>1</td>\n",
              "      <td>0.0</td>\n",
              "      <td>0.0</td>\n",
              "      <td>0.0</td>\n",
              "      <td>0.0</td>\n",
              "      <td>0.0</td>\n",
              "      <td>0.0</td>\n",
              "      <td>0.0</td>\n",
              "      <td>0.0</td>\n",
              "      <td>0.0</td>\n",
              "      <td>0.0</td>\n",
              "      <td>0.0</td>\n",
              "      <td>0.0</td>\n",
              "      <td>0.0</td>\n",
              "      <td>0.0</td>\n",
              "      <td>0.0</td>\n",
              "      <td>0.0</td>\n",
              "      <td>0.0</td>\n",
              "      <td>0.0</td>\n",
              "      <td>0.0</td>\n",
              "      <td>0.0</td>\n",
              "      <td>0.0</td>\n",
              "      <td>0.0</td>\n",
              "      <td>0.0</td>\n",
              "      <td>0.0</td>\n",
              "      <td>0.0</td>\n",
              "      <td>0.0</td>\n",
              "      <td>0.0</td>\n",
              "      <td>0.0</td>\n",
              "      <td>0.0</td>\n",
              "      <td>0.0</td>\n",
              "      <td>0.0</td>\n",
              "      <td>0.0</td>\n",
              "      <td>0.0</td>\n",
              "      <td>0.0</td>\n",
              "      <td>0.0</td>\n",
              "      <td>0.0</td>\n",
              "      <td>0.0</td>\n",
              "      <td>0.0</td>\n",
              "      <td>...</td>\n",
              "      <td>0.0</td>\n",
              "      <td>0.0</td>\n",
              "      <td>0.0</td>\n",
              "      <td>0.0</td>\n",
              "      <td>0.0</td>\n",
              "      <td>0.0</td>\n",
              "      <td>0.0</td>\n",
              "      <td>0.0</td>\n",
              "      <td>0.0</td>\n",
              "      <td>0.0</td>\n",
              "      <td>0.0</td>\n",
              "      <td>0.0</td>\n",
              "      <td>0.0</td>\n",
              "      <td>0.0</td>\n",
              "      <td>0.0</td>\n",
              "      <td>0.0</td>\n",
              "      <td>0.0</td>\n",
              "      <td>0.0</td>\n",
              "      <td>0.0</td>\n",
              "      <td>0.0</td>\n",
              "      <td>0.0</td>\n",
              "      <td>0.0</td>\n",
              "      <td>0.0</td>\n",
              "      <td>0.0</td>\n",
              "      <td>0.0</td>\n",
              "      <td>0.0</td>\n",
              "      <td>0.0</td>\n",
              "      <td>0.0</td>\n",
              "      <td>0.0</td>\n",
              "      <td>0.0</td>\n",
              "      <td>0.0</td>\n",
              "      <td>0.0</td>\n",
              "      <td>0.0</td>\n",
              "      <td>0.0</td>\n",
              "      <td>0.0</td>\n",
              "      <td>0.0</td>\n",
              "      <td>0.0</td>\n",
              "      <td>0.0</td>\n",
              "      <td>0.0</td>\n",
              "      <td>0.0</td>\n",
              "    </tr>\n",
              "    <tr>\n",
              "      <th>4</th>\n",
              "      <td>0</td>\n",
              "      <td>1</td>\n",
              "      <td>0.0</td>\n",
              "      <td>0.0</td>\n",
              "      <td>0.0</td>\n",
              "      <td>0.0</td>\n",
              "      <td>0.0</td>\n",
              "      <td>0.0</td>\n",
              "      <td>0.0</td>\n",
              "      <td>0.0</td>\n",
              "      <td>0.0</td>\n",
              "      <td>0.0</td>\n",
              "      <td>0.0</td>\n",
              "      <td>0.0</td>\n",
              "      <td>0.0</td>\n",
              "      <td>0.0</td>\n",
              "      <td>0.0</td>\n",
              "      <td>0.0</td>\n",
              "      <td>0.0</td>\n",
              "      <td>0.0</td>\n",
              "      <td>0.0</td>\n",
              "      <td>0.0</td>\n",
              "      <td>0.0</td>\n",
              "      <td>0.0</td>\n",
              "      <td>0.0</td>\n",
              "      <td>0.0</td>\n",
              "      <td>0.0</td>\n",
              "      <td>0.0</td>\n",
              "      <td>0.0</td>\n",
              "      <td>0.0</td>\n",
              "      <td>0.0</td>\n",
              "      <td>0.0</td>\n",
              "      <td>0.0</td>\n",
              "      <td>0.0</td>\n",
              "      <td>0.0</td>\n",
              "      <td>0.0</td>\n",
              "      <td>0.0</td>\n",
              "      <td>0.0</td>\n",
              "      <td>0.0</td>\n",
              "      <td>0.0</td>\n",
              "      <td>...</td>\n",
              "      <td>0.0</td>\n",
              "      <td>0.0</td>\n",
              "      <td>0.0</td>\n",
              "      <td>0.0</td>\n",
              "      <td>0.0</td>\n",
              "      <td>0.0</td>\n",
              "      <td>0.0</td>\n",
              "      <td>0.0</td>\n",
              "      <td>0.0</td>\n",
              "      <td>0.0</td>\n",
              "      <td>0.0</td>\n",
              "      <td>0.0</td>\n",
              "      <td>0.0</td>\n",
              "      <td>0.0</td>\n",
              "      <td>0.0</td>\n",
              "      <td>0.0</td>\n",
              "      <td>0.0</td>\n",
              "      <td>0.0</td>\n",
              "      <td>0.0</td>\n",
              "      <td>0.0</td>\n",
              "      <td>0.0</td>\n",
              "      <td>0.0</td>\n",
              "      <td>0.0</td>\n",
              "      <td>0.0</td>\n",
              "      <td>0.0</td>\n",
              "      <td>0.0</td>\n",
              "      <td>0.0</td>\n",
              "      <td>0.0</td>\n",
              "      <td>0.0</td>\n",
              "      <td>0.0</td>\n",
              "      <td>0.0</td>\n",
              "      <td>0.0</td>\n",
              "      <td>0.0</td>\n",
              "      <td>0.0</td>\n",
              "      <td>0.0</td>\n",
              "      <td>0.0</td>\n",
              "      <td>0.0</td>\n",
              "      <td>0.0</td>\n",
              "      <td>0.0</td>\n",
              "      <td>0.0</td>\n",
              "    </tr>\n",
              "  </tbody>\n",
              "</table>\n",
              "<p>5 rows × 4257 columns</p>\n",
              "</div>"
            ],
            "text/plain": [
              "   tweet_contains_smiley  tweet_contains_url    0    1  ...  4251  4252  4253  4254\n",
              "0                      0                   0  0.0  0.0  ...   0.0   0.0   0.0   0.0\n",
              "1                      0                   0  0.0  0.0  ...   0.0   0.0   0.0   0.0\n",
              "2                      0                   0  0.0  0.0  ...   0.0   0.0   0.0   0.0\n",
              "3                      0                   1  0.0  0.0  ...   0.0   0.0   0.0   0.0\n",
              "4                      0                   1  0.0  0.0  ...   0.0   0.0   0.0   0.0\n",
              "\n",
              "[5 rows x 4257 columns]"
            ]
          },
          "metadata": {
            "tags": []
          },
          "execution_count": 44
        }
      ]
    },
    {
      "cell_type": "code",
      "metadata": {
        "id": "A6IN2CYAvzHF",
        "colab_type": "code",
        "colab": {}
      },
      "source": [
        "from sklearn.model_selection import KFold,cross_val_score\n",
        "from sklearn.ensemble import RandomForestClassifier"
      ],
      "execution_count": 0,
      "outputs": []
    },
    {
      "cell_type": "code",
      "metadata": {
        "id": "d3XFcteQ6EOm",
        "colab_type": "code",
        "colab": {
          "base_uri": "https://localhost:8080/",
          "height": 35
        },
        "outputId": "889f8652-6b4b-4bab-abed-86cb2e6932b1"
      },
      "source": [
        "rf=RandomForestClassifier(n_jobs=-1)\n",
        "k_fold=KFold(n_splits=5)\n",
        "cross_val_score(rf,X_train_vect,y_train,cv=k_fold,scoring='accuracy',n_jobs=-1)"
      ],
      "execution_count": 48,
      "outputs": [
        {
          "output_type": "execute_result",
          "data": {
            "text/plain": [
              "array([0.88958991, 0.8792423 , 0.89265983, 0.87687451, 0.8792423 ])"
            ]
          },
          "metadata": {
            "tags": []
          },
          "execution_count": 48
        }
      ]
    },
    {
      "cell_type": "code",
      "metadata": {
        "id": "t01D--6i7h0j",
        "colab_type": "code",
        "colab": {}
      },
      "source": [
        "from sklearn.ensemble import  GradientBoostingClassifier"
      ],
      "execution_count": 0,
      "outputs": []
    },
    {
      "cell_type": "code",
      "metadata": {
        "id": "YlYbxOYc7n0N",
        "colab_type": "code",
        "colab": {}
      },
      "source": [
        "from sklearn.metrics import precision_recall_fscore_support as score"
      ],
      "execution_count": 0,
      "outputs": []
    },
    {
      "cell_type": "code",
      "metadata": {
        "id": "gC6acGRI768D",
        "colab_type": "code",
        "colab": {}
      },
      "source": [
        "def train_GB(est,max_depth, lr):\n",
        "  gb=GradientBoostingClassifier(n_estimators=est,max_depth=max_depth,learning_rate= lr)\n",
        "  gb_model=gb.fit(X_train_vect,y_train)\n",
        "  y_pred=gb_model.predict(X_test_vect)\n",
        "  precision,recall,fscore,train_support=score(y_test,y_pred,pos_label=1,average='binary')\n",
        "  print('Est: {}/Depth: {} /LR: {} --- Precision: {} /Recall: {} /Accuracy: {}'.format(\n",
        "        est,max_depth,lr, round(precision,3), round(recall, 3),\n",
        "        round((y_pred==y_test).sum()/len(y_pred),3)))"
      ],
      "execution_count": 0,
      "outputs": []
    },
    {
      "cell_type": "code",
      "metadata": {
        "id": "Jalo7J7I9hCJ",
        "colab_type": "code",
        "colab": {
          "base_uri": "https://localhost:8080/",
          "height": 696
        },
        "outputId": "a7ba8b0b-2ebf-483e-a100-60f867390aba"
      },
      "source": [
        "for n_est in [50,100,150]:\n",
        "  for max_depth in [3,7,11,15]:\n",
        "    for lr in [0.01,0.1,1]:\n",
        "      train_GB(n_est,max_depth,lr)"
      ],
      "execution_count": 57,
      "outputs": [
        {
          "output_type": "stream",
          "text": [
            "/usr/local/lib/python3.6/dist-packages/sklearn/metrics/_classification.py:1272: UndefinedMetricWarning: Precision and F-score are ill-defined and being set to 0.0 due to no predicted samples. Use `zero_division` parameter to control this behavior.\n",
            "  _warn_prf(average, modifier, msg_start, len(result))\n"
          ],
          "name": "stderr"
        },
        {
          "output_type": "stream",
          "text": [
            "Est: 50/Depth: 3 /LR: 0.01 --- Precision: 0.0 /Recall: 0.0 /Accuracy: 0.751\n",
            "Est: 50/Depth: 3 /LR: 0.1 --- Precision: 0.709 /Recall: 0.785 /Accuracy: 0.866\n",
            "Est: 50/Depth: 3 /LR: 1 --- Precision: 0.738 /Recall: 0.734 /Accuracy: 0.869\n",
            "Est: 50/Depth: 7 /LR: 0.01 --- Precision: 1.0 /Recall: 0.023 /Accuracy: 0.756\n",
            "Est: 50/Depth: 7 /LR: 0.1 --- Precision: 0.751 /Recall: 0.795 /Accuracy: 0.883\n",
            "Est: 50/Depth: 7 /LR: 1 --- Precision: 0.691 /Recall: 0.724 /Accuracy: 0.85\n",
            "Est: 50/Depth: 11 /LR: 0.01 --- Precision: 0.778 /Recall: 0.053 /Accuracy: 0.76\n",
            "Est: 50/Depth: 11 /LR: 0.1 --- Precision: 0.727 /Recall: 0.775 /Accuracy: 0.871\n",
            "Est: 50/Depth: 11 /LR: 1 --- Precision: 0.679 /Recall: 0.744 /Accuracy: 0.848\n",
            "Est: 50/Depth: 15 /LR: 0.01 --- Precision: 0.765 /Recall: 0.099 /Accuracy: 0.768\n",
            "Est: 50/Depth: 15 /LR: 0.1 --- Precision: 0.726 /Recall: 0.785 /Accuracy: 0.872\n",
            "Est: 50/Depth: 15 /LR: 1 --- Precision: 0.676 /Recall: 0.759 /Accuracy: 0.849\n",
            "Est: 100/Depth: 3 /LR: 0.01 --- Precision: 0.714 /Recall: 0.461 /Accuracy: 0.819\n",
            "Est: 100/Depth: 3 /LR: 0.1 --- Precision: 0.74 /Recall: 0.762 /Accuracy: 0.874\n",
            "Est: 100/Depth: 3 /LR: 1 --- Precision: 0.744 /Recall: 0.678 /Accuracy: 0.862\n",
            "Est: 100/Depth: 7 /LR: 0.01 --- Precision: 0.755 /Recall: 0.704 /Accuracy: 0.869\n",
            "Est: 100/Depth: 7 /LR: 0.1 --- Precision: 0.748 /Recall: 0.805 /Accuracy: 0.884\n",
            "Est: 100/Depth: 7 /LR: 1 --- Precision: 0.716 /Recall: 0.729 /Accuracy: 0.86\n",
            "Est: 100/Depth: 11 /LR: 0.01 --- Precision: 0.731 /Recall: 0.737 /Accuracy: 0.867\n",
            "Est: 100/Depth: 11 /LR: 0.1 --- Precision: 0.728 /Recall: 0.787 /Accuracy: 0.874\n",
            "Est: 100/Depth: 11 /LR: 1 --- Precision: 0.685 /Recall: 0.737 /Accuracy: 0.85\n",
            "Est: 100/Depth: 15 /LR: 0.01 --- Precision: 0.718 /Recall: 0.709 /Accuracy: 0.858\n",
            "Est: 100/Depth: 15 /LR: 0.1 --- Precision: 0.727 /Recall: 0.795 /Accuracy: 0.874\n",
            "Est: 100/Depth: 15 /LR: 1 --- Precision: 0.707 /Recall: 0.747 /Accuracy: 0.86\n",
            "Est: 150/Depth: 3 /LR: 0.01 --- Precision: 0.728 /Recall: 0.554 /Accuracy: 0.837\n",
            "Est: 150/Depth: 3 /LR: 0.1 --- Precision: 0.752 /Recall: 0.752 /Accuracy: 0.876\n",
            "Est: 150/Depth: 3 /LR: 1 --- Precision: 0.723 /Recall: 0.673 /Accuracy: 0.854\n",
            "Est: 150/Depth: 7 /LR: 0.01 --- Precision: 0.746 /Recall: 0.742 /Accuracy: 0.872\n",
            "Est: 150/Depth: 7 /LR: 0.1 --- Precision: 0.752 /Recall: 0.785 /Accuracy: 0.882\n",
            "Est: 150/Depth: 7 /LR: 1 --- Precision: 0.721 /Recall: 0.711 /Accuracy: 0.859\n",
            "Est: 150/Depth: 11 /LR: 0.01 --- Precision: 0.721 /Recall: 0.767 /Accuracy: 0.868\n",
            "Est: 150/Depth: 11 /LR: 0.1 --- Precision: 0.739 /Recall: 0.782 /Accuracy: 0.877\n",
            "Est: 150/Depth: 11 /LR: 1 --- Precision: 0.723 /Recall: 0.759 /Accuracy: 0.867\n",
            "Est: 150/Depth: 15 /LR: 0.01 --- Precision: 0.725 /Recall: 0.749 /Accuracy: 0.867\n",
            "Est: 150/Depth: 15 /LR: 0.1 --- Precision: 0.727 /Recall: 0.787 /Accuracy: 0.873\n",
            "Est: 150/Depth: 15 /LR: 1 --- Precision: 0.709 /Recall: 0.765 /Accuracy: 0.863\n"
          ],
          "name": "stdout"
        }
      ]
    },
    {
      "cell_type": "code",
      "metadata": {
        "id": "FCKdnU_w96yY",
        "colab_type": "code",
        "colab": {}
      },
      "source": [
        "X_train"
      ],
      "execution_count": 0,
      "outputs": []
    }
  ]
}